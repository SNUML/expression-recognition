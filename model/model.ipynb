{
 "cells": [
  {
   "cell_type": "code",
   "execution_count": 1,
   "metadata": {},
   "outputs": [],
   "source": [
    "import torch\n",
    "import torch.nn as nn\n",
    "import torch.optim as optim\n",
    "import torch.nn.functional as F\n",
    "from torch.utils.data import DataLoader\n",
    "from torchvision import transforms"
   ]
  },
  {
   "cell_type": "code",
   "execution_count": 2,
   "metadata": {},
   "outputs": [],
   "source": [
    "import sys\n",
    "sys.path.append('..')"
   ]
  },
  {
   "cell_type": "code",
   "execution_count": 3,
   "metadata": {},
   "outputs": [],
   "source": [
    "from Datasets import Datasets"
   ]
  },
  {
   "cell_type": "code",
   "execution_count": 4,
   "metadata": {},
   "outputs": [],
   "source": [
    "USE_CUDA = torch.cuda.is_available()\n",
    "DEVICE = torch.device(\"cuda\" if USE_CUDA else \"cpu\")\n",
    "EPOCHS = 40\n",
    "BATCH_SIZE = 64"
   ]
  },
  {
   "cell_type": "code",
   "execution_count": 5,
   "metadata": {},
   "outputs": [],
   "source": [
    "train_dataset = Datasets.HandWrittenDataset('../data/train/',\n",
    "         transform=transforms.Compose([\n",
    "             transforms.ToTensor(),\n",
    "             transforms.Normalize((0.1307,), (0.3081,))\n",
    "         ]))\n",
    "test_dataset = Datasets.HandWrittenDataset('../data/test/',\n",
    "         transform=transforms.Compose([\n",
    "             transforms.ToTensor(),\n",
    "             transforms.Normalize((0.1307,), (0.3081,))\n",
    "         ]))"
   ]
  },
  {
   "cell_type": "code",
   "execution_count": 6,
   "metadata": {},
   "outputs": [],
   "source": [
    "DICTLEN = train_dataset.getDictLen()"
   ]
  },
  {
   "cell_type": "code",
   "execution_count": 7,
   "metadata": {},
   "outputs": [],
   "source": [
    "train_loader = DataLoader(\n",
    "    dataset=train_dataset,\n",
    "    batch_size=BATCH_SIZE, shuffle=True\n",
    ")\n",
    "\n",
    "test_loader = DataLoader(\n",
    "    dataset=test_dataset,\n",
    "    batch_size=BATCH_SIZE, shuffle=True\n",
    ")"
   ]
  },
  {
   "cell_type": "code",
   "execution_count": 8,
   "metadata": {},
   "outputs": [],
   "source": [
    "class CNN(nn.Module):\n",
    "    def __init__(self):\n",
    "        super(CNN, self).__init__()\n",
    "        self.conv1 = nn.Conv2d(1, 10, kernel_size=5)\n",
    "        self.conv2 = nn.Conv2d(10, 20, kernel_size=5)\n",
    "        self.drop = nn.Dropout2d()\n",
    "        self.fc1 = nn.Linear(1620, 100)\n",
    "        self.fc2 = nn.Linear(100, DICTLEN)\n",
    "    def forward(self, x):\n",
    "        x = F.relu(F.max_pool2d(self.conv1(x), 2))\n",
    "        x = F.relu(F.max_pool2d(self.conv2(x), 2))\n",
    "        x = x.view(-1, 1620)\n",
    "        x = F.relu(self.fc1(x))\n",
    "        x = self.drop(x)\n",
    "        x = self.fc2(x)\n",
    "        return F.log_softmax(x, dim=1)"
   ]
  },
  {
   "cell_type": "code",
   "execution_count": 50,
   "metadata": {},
   "outputs": [],
   "source": [
    "model = CNN().to(DEVICE)\n",
    "optimizer = optim.SGD(model.parameters(), lr=0.01, momentum=0.5)"
   ]
  },
  {
   "cell_type": "code",
   "execution_count": 51,
   "metadata": {},
   "outputs": [],
   "source": [
    "def train(model, train_loader, optimizer, epoch):\n",
    "    model.train()\n",
    "    for batch_idx, (data, target) in enumerate(train_loader):\n",
    "        data = data.to(DEVICE)\n",
    "        target = target.to(DEVICE)\n",
    "        optimizer.zero_grad()\n",
    "        output = model(data)\n",
    "        loss = F.cross_entropy(output, target)\n",
    "        loss.backward()\n",
    "        optimizer.step()\n",
    "        if batch_idx % 20 == 0:\n",
    "            print('Train Epoch: {} [{}/{} ({:.0f}%)]\\tLoss: {:.6f}'.format(\n",
    "                epoch, batch_idx * len(data), len(train_loader.dataset),\n",
    "                100. * batch_idx / len(train_loader), loss.item()))"
   ]
  },
  {
   "cell_type": "code",
   "execution_count": 52,
   "metadata": {},
   "outputs": [],
   "source": [
    "def evaluate(model, test_loader):\n",
    "    model.eval()\n",
    "    test_loss = 0\n",
    "    correct = 0\n",
    "    with torch.no_grad():\n",
    "        for data, target in test_loader:\n",
    "            data, target = data.to(DEVICE), target.to(DEVICE)\n",
    "            output = model(data)\n",
    "            test_loss += F.cross_entropy(output, target,\n",
    "                                         reduction='sum').item()\n",
    "            pred = output.max(1, keepdim=True)[1]\n",
    "            correct += pred.eq(target.view_as(pred)).sum().item()\n",
    "\n",
    "    test_loss /= len(test_loader.dataset)\n",
    "    test_accuracy = 100. * correct / len(test_loader.dataset)\n",
    "    return test_loss, test_accuracy"
   ]
  },
  {
   "cell_type": "code",
   "execution_count": 53,
   "metadata": {},
   "outputs": [
    {
     "name": "stdout",
     "output_type": "stream",
     "text": [
      "Train Epoch: 1 [0/8304 (0%)]\tLoss: 4.052592\n",
      "Train Epoch: 1 [1280/8304 (15%)]\tLoss: 3.453346\n",
      "Train Epoch: 1 [2560/8304 (31%)]\tLoss: 3.576582\n",
      "Train Epoch: 1 [3840/8304 (46%)]\tLoss: 3.228166\n",
      "Train Epoch: 1 [5120/8304 (62%)]\tLoss: 3.562387\n",
      "Train Epoch: 1 [6400/8304 (77%)]\tLoss: 3.283139\n",
      "Train Epoch: 1 [7680/8304 (92%)]\tLoss: 2.749965\n",
      "[1] Test Loss: 2.5757, Accuracy: 45.10%\n",
      "Train Epoch: 2 [0/8304 (0%)]\tLoss: 2.816450\n",
      "Train Epoch: 2 [1280/8304 (15%)]\tLoss: 2.460814\n",
      "Train Epoch: 2 [2560/8304 (31%)]\tLoss: 2.746013\n",
      "Train Epoch: 2 [3840/8304 (46%)]\tLoss: 2.411212\n",
      "Train Epoch: 2 [5120/8304 (62%)]\tLoss: 2.625265\n",
      "Train Epoch: 2 [6400/8304 (77%)]\tLoss: 2.269610\n",
      "Train Epoch: 2 [7680/8304 (92%)]\tLoss: 1.912708\n",
      "[2] Test Loss: 1.5507, Accuracy: 63.84%\n",
      "Train Epoch: 3 [0/8304 (0%)]\tLoss: 1.948946\n",
      "Train Epoch: 3 [1280/8304 (15%)]\tLoss: 1.690523\n",
      "Train Epoch: 3 [2560/8304 (31%)]\tLoss: 1.897074\n",
      "Train Epoch: 3 [3840/8304 (46%)]\tLoss: 1.607128\n",
      "Train Epoch: 3 [5120/8304 (62%)]\tLoss: 1.671738\n",
      "Train Epoch: 3 [6400/8304 (77%)]\tLoss: 1.733464\n",
      "Train Epoch: 3 [7680/8304 (92%)]\tLoss: 1.757245\n",
      "[3] Test Loss: 0.9840, Accuracy: 73.32%\n",
      "Train Epoch: 4 [0/8304 (0%)]\tLoss: 1.201235\n",
      "Train Epoch: 4 [1280/8304 (15%)]\tLoss: 1.496094\n",
      "Train Epoch: 4 [2560/8304 (31%)]\tLoss: 1.305760\n",
      "Train Epoch: 4 [3840/8304 (46%)]\tLoss: 1.387071\n",
      "Train Epoch: 4 [5120/8304 (62%)]\tLoss: 1.082265\n",
      "Train Epoch: 4 [6400/8304 (77%)]\tLoss: 1.112168\n",
      "Train Epoch: 4 [7680/8304 (92%)]\tLoss: 1.088787\n",
      "[4] Test Loss: 0.7346, Accuracy: 78.70%\n",
      "Train Epoch: 5 [0/8304 (0%)]\tLoss: 1.343109\n",
      "Train Epoch: 5 [1280/8304 (15%)]\tLoss: 1.311975\n",
      "Train Epoch: 5 [2560/8304 (31%)]\tLoss: 1.354062\n",
      "Train Epoch: 5 [3840/8304 (46%)]\tLoss: 1.174961\n",
      "Train Epoch: 5 [5120/8304 (62%)]\tLoss: 0.908671\n",
      "Train Epoch: 5 [6400/8304 (77%)]\tLoss: 0.847464\n",
      "Train Epoch: 5 [7680/8304 (92%)]\tLoss: 1.232701\n",
      "[5] Test Loss: 0.6087, Accuracy: 82.47%\n",
      "Train Epoch: 6 [0/8304 (0%)]\tLoss: 1.143149\n",
      "Train Epoch: 6 [1280/8304 (15%)]\tLoss: 1.149113\n",
      "Train Epoch: 6 [2560/8304 (31%)]\tLoss: 0.878359\n",
      "Train Epoch: 6 [3840/8304 (46%)]\tLoss: 1.063789\n",
      "Train Epoch: 6 [5120/8304 (62%)]\tLoss: 0.696256\n",
      "Train Epoch: 6 [6400/8304 (77%)]\tLoss: 0.787427\n",
      "Train Epoch: 6 [7680/8304 (92%)]\tLoss: 0.890322\n",
      "[6] Test Loss: 0.4747, Accuracy: 86.95%\n",
      "Train Epoch: 7 [0/8304 (0%)]\tLoss: 0.810561\n",
      "Train Epoch: 7 [1280/8304 (15%)]\tLoss: 0.914459\n",
      "Train Epoch: 7 [2560/8304 (31%)]\tLoss: 0.835774\n",
      "Train Epoch: 7 [3840/8304 (46%)]\tLoss: 1.100729\n",
      "Train Epoch: 7 [5120/8304 (62%)]\tLoss: 0.859168\n",
      "Train Epoch: 7 [6400/8304 (77%)]\tLoss: 1.095842\n",
      "Train Epoch: 7 [7680/8304 (92%)]\tLoss: 0.867066\n",
      "[7] Test Loss: 0.4481, Accuracy: 86.95%\n",
      "Train Epoch: 8 [0/8304 (0%)]\tLoss: 0.741836\n",
      "Train Epoch: 8 [1280/8304 (15%)]\tLoss: 0.724231\n",
      "Train Epoch: 8 [2560/8304 (31%)]\tLoss: 0.792892\n",
      "Train Epoch: 8 [3840/8304 (46%)]\tLoss: 0.590336\n",
      "Train Epoch: 8 [5120/8304 (62%)]\tLoss: 1.005518\n",
      "Train Epoch: 8 [6400/8304 (77%)]\tLoss: 0.941776\n",
      "Train Epoch: 8 [7680/8304 (92%)]\tLoss: 0.782018\n",
      "[8] Test Loss: 0.3564, Accuracy: 89.28%\n",
      "Train Epoch: 9 [0/8304 (0%)]\tLoss: 0.619253\n",
      "Train Epoch: 9 [1280/8304 (15%)]\tLoss: 0.779007\n",
      "Train Epoch: 9 [2560/8304 (31%)]\tLoss: 0.579004\n",
      "Train Epoch: 9 [3840/8304 (46%)]\tLoss: 0.456895\n",
      "Train Epoch: 9 [5120/8304 (62%)]\tLoss: 0.489696\n",
      "Train Epoch: 9 [6400/8304 (77%)]\tLoss: 0.648574\n",
      "Train Epoch: 9 [7680/8304 (92%)]\tLoss: 0.833013\n",
      "[9] Test Loss: 0.3646, Accuracy: 88.53%\n",
      "Train Epoch: 10 [0/8304 (0%)]\tLoss: 0.683265\n",
      "Train Epoch: 10 [1280/8304 (15%)]\tLoss: 0.468414\n",
      "Train Epoch: 10 [2560/8304 (31%)]\tLoss: 0.626895\n",
      "Train Epoch: 10 [3840/8304 (46%)]\tLoss: 0.542628\n",
      "Train Epoch: 10 [5120/8304 (62%)]\tLoss: 0.644944\n",
      "Train Epoch: 10 [6400/8304 (77%)]\tLoss: 0.628177\n",
      "Train Epoch: 10 [7680/8304 (92%)]\tLoss: 0.583338\n",
      "[10] Test Loss: 0.3053, Accuracy: 90.31%\n",
      "Train Epoch: 11 [0/8304 (0%)]\tLoss: 0.516298\n",
      "Train Epoch: 11 [1280/8304 (15%)]\tLoss: 0.745043\n",
      "Train Epoch: 11 [2560/8304 (31%)]\tLoss: 0.769031\n",
      "Train Epoch: 11 [3840/8304 (46%)]\tLoss: 0.580375\n",
      "Train Epoch: 11 [5120/8304 (62%)]\tLoss: 0.622874\n",
      "Train Epoch: 11 [6400/8304 (77%)]\tLoss: 0.554835\n",
      "Train Epoch: 11 [7680/8304 (92%)]\tLoss: 0.889073\n",
      "[11] Test Loss: 0.2888, Accuracy: 90.86%\n",
      "Train Epoch: 12 [0/8304 (0%)]\tLoss: 0.482520\n",
      "Train Epoch: 12 [1280/8304 (15%)]\tLoss: 0.638650\n",
      "Train Epoch: 12 [2560/8304 (31%)]\tLoss: 0.584667\n",
      "Train Epoch: 12 [3840/8304 (46%)]\tLoss: 0.712816\n",
      "Train Epoch: 12 [5120/8304 (62%)]\tLoss: 0.372257\n",
      "Train Epoch: 12 [6400/8304 (77%)]\tLoss: 0.447820\n",
      "Train Epoch: 12 [7680/8304 (92%)]\tLoss: 0.684364\n",
      "[12] Test Loss: 0.3008, Accuracy: 90.75%\n",
      "Train Epoch: 13 [0/8304 (0%)]\tLoss: 0.549129\n",
      "Train Epoch: 13 [1280/8304 (15%)]\tLoss: 0.618044\n",
      "Train Epoch: 13 [2560/8304 (31%)]\tLoss: 0.388043\n",
      "Train Epoch: 13 [3840/8304 (46%)]\tLoss: 0.738375\n",
      "Train Epoch: 13 [5120/8304 (62%)]\tLoss: 0.603042\n",
      "Train Epoch: 13 [6400/8304 (77%)]\tLoss: 0.500817\n",
      "Train Epoch: 13 [7680/8304 (92%)]\tLoss: 0.477800\n",
      "[13] Test Loss: 0.2797, Accuracy: 91.37%\n",
      "Train Epoch: 14 [0/8304 (0%)]\tLoss: 0.392467\n",
      "Train Epoch: 14 [1280/8304 (15%)]\tLoss: 0.640806\n",
      "Train Epoch: 14 [2560/8304 (31%)]\tLoss: 0.525374\n",
      "Train Epoch: 14 [3840/8304 (46%)]\tLoss: 0.611409\n",
      "Train Epoch: 14 [5120/8304 (62%)]\tLoss: 0.557010\n",
      "Train Epoch: 14 [6400/8304 (77%)]\tLoss: 0.548575\n",
      "Train Epoch: 14 [7680/8304 (92%)]\tLoss: 0.475891\n",
      "[14] Test Loss: 0.2666, Accuracy: 91.75%\n",
      "Train Epoch: 15 [0/8304 (0%)]\tLoss: 0.337620\n",
      "Train Epoch: 15 [1280/8304 (15%)]\tLoss: 0.582640\n",
      "Train Epoch: 15 [2560/8304 (31%)]\tLoss: 0.565903\n",
      "Train Epoch: 15 [3840/8304 (46%)]\tLoss: 0.314106\n",
      "Train Epoch: 15 [5120/8304 (62%)]\tLoss: 0.440847\n",
      "Train Epoch: 15 [6400/8304 (77%)]\tLoss: 0.488807\n",
      "Train Epoch: 15 [7680/8304 (92%)]\tLoss: 0.569578\n",
      "[15] Test Loss: 0.2527, Accuracy: 92.19%\n",
      "Train Epoch: 16 [0/8304 (0%)]\tLoss: 0.500180\n",
      "Train Epoch: 16 [1280/8304 (15%)]\tLoss: 0.472788\n",
      "Train Epoch: 16 [2560/8304 (31%)]\tLoss: 0.212157\n",
      "Train Epoch: 16 [3840/8304 (46%)]\tLoss: 0.698964\n",
      "Train Epoch: 16 [5120/8304 (62%)]\tLoss: 0.285641\n",
      "Train Epoch: 16 [6400/8304 (77%)]\tLoss: 0.151861\n",
      "Train Epoch: 16 [7680/8304 (92%)]\tLoss: 0.429824\n",
      "[16] Test Loss: 0.2151, Accuracy: 92.88%\n",
      "Train Epoch: 17 [0/8304 (0%)]\tLoss: 0.438714\n",
      "Train Epoch: 17 [1280/8304 (15%)]\tLoss: 0.218427\n",
      "Train Epoch: 17 [2560/8304 (31%)]\tLoss: 0.455279\n",
      "Train Epoch: 17 [3840/8304 (46%)]\tLoss: 0.367928\n",
      "Train Epoch: 17 [5120/8304 (62%)]\tLoss: 0.355607\n",
      "Train Epoch: 17 [6400/8304 (77%)]\tLoss: 0.416431\n",
      "Train Epoch: 17 [7680/8304 (92%)]\tLoss: 0.561365\n",
      "[17] Test Loss: 0.2407, Accuracy: 92.64%\n",
      "Train Epoch: 18 [0/8304 (0%)]\tLoss: 0.320853\n",
      "Train Epoch: 18 [1280/8304 (15%)]\tLoss: 0.428088\n",
      "Train Epoch: 18 [2560/8304 (31%)]\tLoss: 0.320247\n",
      "Train Epoch: 18 [3840/8304 (46%)]\tLoss: 0.322871\n",
      "Train Epoch: 18 [5120/8304 (62%)]\tLoss: 0.420403\n",
      "Train Epoch: 18 [6400/8304 (77%)]\tLoss: 0.289154\n",
      "Train Epoch: 18 [7680/8304 (92%)]\tLoss: 0.467053\n",
      "[18] Test Loss: 0.2252, Accuracy: 92.77%\n",
      "Train Epoch: 19 [0/8304 (0%)]\tLoss: 0.262050\n",
      "Train Epoch: 19 [1280/8304 (15%)]\tLoss: 0.480014\n",
      "Train Epoch: 19 [2560/8304 (31%)]\tLoss: 0.459555\n",
      "Train Epoch: 19 [3840/8304 (46%)]\tLoss: 0.250324\n",
      "Train Epoch: 19 [5120/8304 (62%)]\tLoss: 0.300635\n",
      "Train Epoch: 19 [6400/8304 (77%)]\tLoss: 0.512220\n",
      "Train Epoch: 19 [7680/8304 (92%)]\tLoss: 0.488990\n",
      "[19] Test Loss: 0.2033, Accuracy: 93.39%\n",
      "Train Epoch: 20 [0/8304 (0%)]\tLoss: 0.516084\n",
      "Train Epoch: 20 [1280/8304 (15%)]\tLoss: 0.265716\n",
      "Train Epoch: 20 [2560/8304 (31%)]\tLoss: 0.395397\n",
      "Train Epoch: 20 [3840/8304 (46%)]\tLoss: 0.524389\n",
      "Train Epoch: 20 [5120/8304 (62%)]\tLoss: 0.516326\n",
      "Train Epoch: 20 [6400/8304 (77%)]\tLoss: 0.569112\n",
      "Train Epoch: 20 [7680/8304 (92%)]\tLoss: 0.318803\n",
      "[20] Test Loss: 0.2208, Accuracy: 93.01%\n",
      "Train Epoch: 21 [0/8304 (0%)]\tLoss: 0.325770\n",
      "Train Epoch: 21 [1280/8304 (15%)]\tLoss: 0.210706\n",
      "Train Epoch: 21 [2560/8304 (31%)]\tLoss: 0.384963\n",
      "Train Epoch: 21 [3840/8304 (46%)]\tLoss: 0.315845\n",
      "Train Epoch: 21 [5120/8304 (62%)]\tLoss: 0.302956\n",
      "Train Epoch: 21 [6400/8304 (77%)]\tLoss: 0.295979\n",
      "Train Epoch: 21 [7680/8304 (92%)]\tLoss: 0.259992\n",
      "[21] Test Loss: 0.2205, Accuracy: 93.12%\n",
      "Train Epoch: 22 [0/8304 (0%)]\tLoss: 0.393237\n",
      "Train Epoch: 22 [1280/8304 (15%)]\tLoss: 0.375156\n",
      "Train Epoch: 22 [2560/8304 (31%)]\tLoss: 0.327343\n",
      "Train Epoch: 22 [3840/8304 (46%)]\tLoss: 0.532654\n",
      "Train Epoch: 22 [5120/8304 (62%)]\tLoss: 0.411013\n",
      "Train Epoch: 22 [6400/8304 (77%)]\tLoss: 0.196800\n"
     ]
    },
    {
     "name": "stdout",
     "output_type": "stream",
     "text": [
      "Train Epoch: 22 [7680/8304 (92%)]\tLoss: 0.223951\n",
      "[22] Test Loss: 0.2094, Accuracy: 93.56%\n",
      "Train Epoch: 23 [0/8304 (0%)]\tLoss: 0.328009\n",
      "Train Epoch: 23 [1280/8304 (15%)]\tLoss: 0.342668\n",
      "Train Epoch: 23 [2560/8304 (31%)]\tLoss: 0.263953\n",
      "Train Epoch: 23 [3840/8304 (46%)]\tLoss: 0.391308\n",
      "Train Epoch: 23 [5120/8304 (62%)]\tLoss: 0.329815\n",
      "Train Epoch: 23 [6400/8304 (77%)]\tLoss: 0.274191\n",
      "Train Epoch: 23 [7680/8304 (92%)]\tLoss: 0.441858\n",
      "[23] Test Loss: 0.2351, Accuracy: 93.08%\n",
      "Train Epoch: 24 [0/8304 (0%)]\tLoss: 0.216059\n",
      "Train Epoch: 24 [1280/8304 (15%)]\tLoss: 0.277155\n",
      "Train Epoch: 24 [2560/8304 (31%)]\tLoss: 0.309151\n",
      "Train Epoch: 24 [3840/8304 (46%)]\tLoss: 0.195016\n",
      "Train Epoch: 24 [5120/8304 (62%)]\tLoss: 0.423666\n",
      "Train Epoch: 24 [6400/8304 (77%)]\tLoss: 0.373045\n",
      "Train Epoch: 24 [7680/8304 (92%)]\tLoss: 0.498031\n",
      "[24] Test Loss: 0.2046, Accuracy: 93.49%\n",
      "Train Epoch: 25 [0/8304 (0%)]\tLoss: 0.297201\n",
      "Train Epoch: 25 [1280/8304 (15%)]\tLoss: 0.328157\n",
      "Train Epoch: 25 [2560/8304 (31%)]\tLoss: 0.343290\n",
      "Train Epoch: 25 [3840/8304 (46%)]\tLoss: 0.278875\n",
      "Train Epoch: 25 [5120/8304 (62%)]\tLoss: 0.251226\n",
      "Train Epoch: 25 [6400/8304 (77%)]\tLoss: 0.415292\n",
      "Train Epoch: 25 [7680/8304 (92%)]\tLoss: 0.439416\n",
      "[25] Test Loss: 0.2000, Accuracy: 94.14%\n",
      "Train Epoch: 26 [0/8304 (0%)]\tLoss: 0.199512\n",
      "Train Epoch: 26 [1280/8304 (15%)]\tLoss: 0.437983\n",
      "Train Epoch: 26 [2560/8304 (31%)]\tLoss: 0.209751\n",
      "Train Epoch: 26 [3840/8304 (46%)]\tLoss: 0.250971\n",
      "Train Epoch: 26 [5120/8304 (62%)]\tLoss: 0.439249\n",
      "Train Epoch: 26 [6400/8304 (77%)]\tLoss: 0.222682\n",
      "Train Epoch: 26 [7680/8304 (92%)]\tLoss: 0.238501\n",
      "[26] Test Loss: 0.2003, Accuracy: 93.77%\n",
      "Train Epoch: 27 [0/8304 (0%)]\tLoss: 0.363205\n",
      "Train Epoch: 27 [1280/8304 (15%)]\tLoss: 0.199464\n",
      "Train Epoch: 27 [2560/8304 (31%)]\tLoss: 0.275055\n",
      "Train Epoch: 27 [3840/8304 (46%)]\tLoss: 0.371297\n",
      "Train Epoch: 27 [5120/8304 (62%)]\tLoss: 0.289746\n",
      "Train Epoch: 27 [6400/8304 (77%)]\tLoss: 0.505307\n",
      "Train Epoch: 27 [7680/8304 (92%)]\tLoss: 0.393662\n",
      "[27] Test Loss: 0.2046, Accuracy: 93.84%\n",
      "Train Epoch: 28 [0/8304 (0%)]\tLoss: 0.344216\n",
      "Train Epoch: 28 [1280/8304 (15%)]\tLoss: 0.473724\n",
      "Train Epoch: 28 [2560/8304 (31%)]\tLoss: 0.487870\n",
      "Train Epoch: 28 [3840/8304 (46%)]\tLoss: 0.378533\n",
      "Train Epoch: 28 [5120/8304 (62%)]\tLoss: 0.525631\n",
      "Train Epoch: 28 [6400/8304 (77%)]\tLoss: 0.208910\n",
      "Train Epoch: 28 [7680/8304 (92%)]\tLoss: 0.218786\n",
      "[28] Test Loss: 0.2149, Accuracy: 93.60%\n",
      "Train Epoch: 29 [0/8304 (0%)]\tLoss: 0.238122\n",
      "Train Epoch: 29 [1280/8304 (15%)]\tLoss: 0.293490\n",
      "Train Epoch: 29 [2560/8304 (31%)]\tLoss: 0.288453\n",
      "Train Epoch: 29 [3840/8304 (46%)]\tLoss: 0.380647\n",
      "Train Epoch: 29 [5120/8304 (62%)]\tLoss: 0.114796\n",
      "Train Epoch: 29 [6400/8304 (77%)]\tLoss: 0.202653\n",
      "Train Epoch: 29 [7680/8304 (92%)]\tLoss: 0.105791\n",
      "[29] Test Loss: 0.2151, Accuracy: 93.39%\n",
      "Train Epoch: 30 [0/8304 (0%)]\tLoss: 0.257610\n",
      "Train Epoch: 30 [1280/8304 (15%)]\tLoss: 0.103249\n",
      "Train Epoch: 30 [2560/8304 (31%)]\tLoss: 0.456927\n",
      "Train Epoch: 30 [3840/8304 (46%)]\tLoss: 0.585745\n",
      "Train Epoch: 30 [5120/8304 (62%)]\tLoss: 0.314248\n",
      "Train Epoch: 30 [6400/8304 (77%)]\tLoss: 0.269227\n",
      "Train Epoch: 30 [7680/8304 (92%)]\tLoss: 0.292238\n",
      "[30] Test Loss: 0.2115, Accuracy: 93.63%\n",
      "Train Epoch: 31 [0/8304 (0%)]\tLoss: 0.187238\n",
      "Train Epoch: 31 [1280/8304 (15%)]\tLoss: 0.377596\n",
      "Train Epoch: 31 [2560/8304 (31%)]\tLoss: 0.139603\n",
      "Train Epoch: 31 [3840/8304 (46%)]\tLoss: 0.305575\n",
      "Train Epoch: 31 [5120/8304 (62%)]\tLoss: 0.135188\n",
      "Train Epoch: 31 [6400/8304 (77%)]\tLoss: 0.300620\n",
      "Train Epoch: 31 [7680/8304 (92%)]\tLoss: 0.359833\n",
      "[31] Test Loss: 0.1989, Accuracy: 94.08%\n",
      "Train Epoch: 32 [0/8304 (0%)]\tLoss: 0.396991\n",
      "Train Epoch: 32 [1280/8304 (15%)]\tLoss: 0.196862\n",
      "Train Epoch: 32 [2560/8304 (31%)]\tLoss: 0.340229\n",
      "Train Epoch: 32 [3840/8304 (46%)]\tLoss: 0.277417\n",
      "Train Epoch: 32 [5120/8304 (62%)]\tLoss: 0.336076\n",
      "Train Epoch: 32 [6400/8304 (77%)]\tLoss: 0.182112\n",
      "Train Epoch: 32 [7680/8304 (92%)]\tLoss: 0.298633\n",
      "[32] Test Loss: 0.2300, Accuracy: 93.36%\n",
      "Train Epoch: 33 [0/8304 (0%)]\tLoss: 0.275023\n",
      "Train Epoch: 33 [1280/8304 (15%)]\tLoss: 0.259116\n",
      "Train Epoch: 33 [2560/8304 (31%)]\tLoss: 0.217632\n",
      "Train Epoch: 33 [3840/8304 (46%)]\tLoss: 0.287348\n",
      "Train Epoch: 33 [5120/8304 (62%)]\tLoss: 0.360550\n",
      "Train Epoch: 33 [6400/8304 (77%)]\tLoss: 0.318425\n",
      "Train Epoch: 33 [7680/8304 (92%)]\tLoss: 0.253367\n",
      "[33] Test Loss: 0.2066, Accuracy: 94.08%\n",
      "Train Epoch: 34 [0/8304 (0%)]\tLoss: 0.289122\n",
      "Train Epoch: 34 [1280/8304 (15%)]\tLoss: 0.423826\n",
      "Train Epoch: 34 [2560/8304 (31%)]\tLoss: 0.315261\n",
      "Train Epoch: 34 [3840/8304 (46%)]\tLoss: 0.139478\n",
      "Train Epoch: 34 [5120/8304 (62%)]\tLoss: 0.118803\n",
      "Train Epoch: 34 [6400/8304 (77%)]\tLoss: 0.329183\n",
      "Train Epoch: 34 [7680/8304 (92%)]\tLoss: 0.204797\n",
      "[34] Test Loss: 0.1875, Accuracy: 94.76%\n",
      "Train Epoch: 35 [0/8304 (0%)]\tLoss: 0.144330\n",
      "Train Epoch: 35 [1280/8304 (15%)]\tLoss: 0.296258\n",
      "Train Epoch: 35 [2560/8304 (31%)]\tLoss: 0.300637\n",
      "Train Epoch: 35 [3840/8304 (46%)]\tLoss: 0.224988\n",
      "Train Epoch: 35 [5120/8304 (62%)]\tLoss: 0.321386\n",
      "Train Epoch: 35 [6400/8304 (77%)]\tLoss: 0.245860\n",
      "Train Epoch: 35 [7680/8304 (92%)]\tLoss: 0.235680\n",
      "[35] Test Loss: 0.1999, Accuracy: 93.70%\n",
      "Train Epoch: 36 [0/8304 (0%)]\tLoss: 0.145107\n",
      "Train Epoch: 36 [1280/8304 (15%)]\tLoss: 0.152497\n",
      "Train Epoch: 36 [2560/8304 (31%)]\tLoss: 0.133003\n",
      "Train Epoch: 36 [3840/8304 (46%)]\tLoss: 0.328311\n",
      "Train Epoch: 36 [5120/8304 (62%)]\tLoss: 0.111789\n",
      "Train Epoch: 36 [6400/8304 (77%)]\tLoss: 0.071458\n",
      "Train Epoch: 36 [7680/8304 (92%)]\tLoss: 0.277791\n",
      "[36] Test Loss: 0.1937, Accuracy: 94.42%\n",
      "Train Epoch: 37 [0/8304 (0%)]\tLoss: 0.126081\n",
      "Train Epoch: 37 [1280/8304 (15%)]\tLoss: 0.176449\n",
      "Train Epoch: 37 [2560/8304 (31%)]\tLoss: 0.183967\n",
      "Train Epoch: 37 [3840/8304 (46%)]\tLoss: 0.334767\n",
      "Train Epoch: 37 [5120/8304 (62%)]\tLoss: 0.264441\n",
      "Train Epoch: 37 [6400/8304 (77%)]\tLoss: 0.148413\n",
      "Train Epoch: 37 [7680/8304 (92%)]\tLoss: 0.159037\n",
      "[37] Test Loss: 0.2020, Accuracy: 93.94%\n",
      "Train Epoch: 38 [0/8304 (0%)]\tLoss: 0.218593\n",
      "Train Epoch: 38 [1280/8304 (15%)]\tLoss: 0.217699\n",
      "Train Epoch: 38 [2560/8304 (31%)]\tLoss: 0.057963\n",
      "Train Epoch: 38 [3840/8304 (46%)]\tLoss: 0.407924\n",
      "Train Epoch: 38 [5120/8304 (62%)]\tLoss: 0.402299\n",
      "Train Epoch: 38 [6400/8304 (77%)]\tLoss: 0.252535\n",
      "Train Epoch: 38 [7680/8304 (92%)]\tLoss: 0.234671\n",
      "[38] Test Loss: 0.2064, Accuracy: 93.97%\n",
      "Train Epoch: 39 [0/8304 (0%)]\tLoss: 0.058469\n",
      "Train Epoch: 39 [1280/8304 (15%)]\tLoss: 0.138701\n",
      "Train Epoch: 39 [2560/8304 (31%)]\tLoss: 0.162286\n",
      "Train Epoch: 39 [3840/8304 (46%)]\tLoss: 0.173862\n",
      "Train Epoch: 39 [5120/8304 (62%)]\tLoss: 0.326001\n",
      "Train Epoch: 39 [6400/8304 (77%)]\tLoss: 0.342351\n",
      "Train Epoch: 39 [7680/8304 (92%)]\tLoss: 0.147852\n",
      "[39] Test Loss: 0.2075, Accuracy: 94.11%\n",
      "Train Epoch: 40 [0/8304 (0%)]\tLoss: 0.150797\n",
      "Train Epoch: 40 [1280/8304 (15%)]\tLoss: 0.349660\n",
      "Train Epoch: 40 [2560/8304 (31%)]\tLoss: 0.226473\n",
      "Train Epoch: 40 [3840/8304 (46%)]\tLoss: 0.233343\n",
      "Train Epoch: 40 [5120/8304 (62%)]\tLoss: 0.300219\n",
      "Train Epoch: 40 [6400/8304 (77%)]\tLoss: 0.223786\n",
      "Train Epoch: 40 [7680/8304 (92%)]\tLoss: 0.353590\n",
      "[40] Test Loss: 0.1948, Accuracy: 94.21%\n"
     ]
    }
   ],
   "source": [
    "loss = []\n",
    "accu = []\n",
    "for epoch in range(1, EPOCHS+1):\n",
    "    train(model, train_loader, optimizer, epoch)\n",
    "    test_loss, test_accuracy = evaluate(model, test_loader)\n",
    "    loss.append(test_loss)\n",
    "    accu.append(test_accuracy)\n",
    "    print('[{}] Test Loss: {:.4f}, Accuracy: {:.2f}%'.format(\n",
    "        epoch, test_loss, test_accuracy))"
   ]
  },
  {
   "cell_type": "code",
   "execution_count": 33,
   "metadata": {},
   "outputs": [],
   "source": [
    "import matplotlib.pyplot as plt\n",
    "from matplotlib.image import imread"
   ]
  },
  {
   "cell_type": "code",
   "execution_count": 44,
   "metadata": {},
   "outputs": [],
   "source": [
    "data, target = next(iter(test_loader))"
   ]
  },
  {
   "cell_type": "code",
   "execution_count": 45,
   "metadata": {},
   "outputs": [
    {
     "data": {
      "text/plain": [
       "<matplotlib.image.AxesImage at 0x128af5d90>"
      ]
     },
     "execution_count": 45,
     "metadata": {},
     "output_type": "execute_result"
    },
    {
     "data": {
      "image/png": "[encoded data removed]",
      "text/plain": [
       "<Figure size 432x288 with 1 Axes>"
      ]
     },
     "metadata": {
      "needs_background": "light"
     },
     "output_type": "display_data"
    }
   ],
   "source": [
    "plt.imshow(data[0].resize(50, 50))"
   ]
  },
  {
   "cell_type": "code",
   "execution_count": 46,
   "metadata": {},
   "outputs": [],
   "source": [
    "output = model(data)"
   ]
  },
  {
   "cell_type": "code",
   "execution_count": 47,
   "metadata": {},
   "outputs": [],
   "source": [
    "pred = output.max(1, keepdim=True)[1]"
   ]
  },
  {
   "cell_type": "code",
   "execution_count": 48,
   "metadata": {},
   "outputs": [
    {
     "data": {
      "text/plain": [
       "tensor([[ 8],\n",
       "        [31],\n",
       "        [23],\n",
       "        [42],\n",
       "        [ 1],\n",
       "        [ 7],\n",
       "        [23],\n",
       "        [34],\n",
       "        [ 4],\n",
       "        [ 7],\n",
       "        [ 4],\n",
       "        [31],\n",
       "        [42],\n",
       "        [ 8],\n",
       "        [ 4],\n",
       "        [ 7],\n",
       "        [ 4],\n",
       "        [ 7],\n",
       "        [32],\n",
       "        [ 8],\n",
       "        [36],\n",
       "        [ 6],\n",
       "        [32],\n",
       "        [34],\n",
       "        [ 4],\n",
       "        [31],\n",
       "        [ 7],\n",
       "        [ 6],\n",
       "        [15],\n",
       "        [24],\n",
       "        [ 7],\n",
       "        [ 4],\n",
       "        [36],\n",
       "        [35],\n",
       "        [ 7],\n",
       "        [ 5],\n",
       "        [ 6],\n",
       "        [ 7],\n",
       "        [ 4],\n",
       "        [ 7],\n",
       "        [ 4],\n",
       "        [ 4],\n",
       "        [26],\n",
       "        [ 7],\n",
       "        [48],\n",
       "        [ 4],\n",
       "        [ 8],\n",
       "        [10],\n",
       "        [23],\n",
       "        [ 2],\n",
       "        [23],\n",
       "        [17],\n",
       "        [23],\n",
       "        [23],\n",
       "        [ 4],\n",
       "        [23],\n",
       "        [ 8],\n",
       "        [ 8],\n",
       "        [ 8],\n",
       "        [32],\n",
       "        [ 4],\n",
       "        [31],\n",
       "        [15],\n",
       "        [36]])"
      ]
     },
     "execution_count": 48,
     "metadata": {},
     "output_type": "execute_result"
    }
   ],
   "source": [
    "pred"
   ]
  },
  {
   "cell_type": "code",
   "execution_count": 54,
   "metadata": {},
   "outputs": [
    {
     "data": {
      "text/plain": [
       "[<matplotlib.lines.Line2D at 0x12b9efd50>]"
      ]
     },
     "execution_count": 54,
     "metadata": {},
     "output_type": "execute_result"
    },
    {
     "data": {
      "image/png": "[encoded data removed]",
      "text/plain": [
       "<Figure size 432x288 with 1 Axes>"
      ]
     },
     "metadata": {
      "needs_background": "light"
     },
     "output_type": "display_data"
    }
   ],
   "source": [
    "plt.plot(loss)"
   ]
  },
  {
   "cell_type": "code",
   "execution_count": 55,
   "metadata": {},
   "outputs": [
    {
     "data": {
      "text/plain": [
       "[<matplotlib.lines.Line2D at 0x12b840a10>]"
      ]
     },
     "execution_count": 55,
     "metadata": {},
     "output_type": "execute_result"
    },
    {
     "data": {
      "image/png": "[encoded data removed]",
      "text/plain": [
       "<Figure size 432x288 with 1 Axes>"
      ]
     },
     "metadata": {
      "needs_background": "light"
     },
     "output_type": "display_data"
    }
   ],
   "source": [
    "plt.plot(accu)"
   ]
  },
  {
   "cell_type": "code",
   "execution_count": null,
   "metadata": {},
   "outputs": [],
   "source": []
  }
 ],
 "metadata": {
  "kernelspec": {
   "display_name": "Python 3",
   "language": "python",
   "name": "python3"
  },
  "language_info": {
   "codemirror_mode": {
    "name": "ipython",
    "version": 3
   },
   "file_extension": ".py",
   "mimetype": "text/x-python",
   "name": "python",
   "nbconvert_exporter": "python",
   "pygments_lexer": "ipython3",
   "version": "3.7.6"
  }
 },
 "nbformat": 4,
 "nbformat_minor": 4
}
